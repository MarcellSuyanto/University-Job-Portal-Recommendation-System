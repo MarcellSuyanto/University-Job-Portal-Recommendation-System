{
 "cells": [
  {
   "cell_type": "code",
   "execution_count": null,
   "id": "872866fd",
   "metadata": {},
   "outputs": [
    {
     "name": "stderr",
     "output_type": "stream",
     "text": [
      "W0716 17:19:41.144000 30536 site-packages\\torch\\distributed\\elastic\\multiprocessing\\redirects.py:29] NOTE: Redirects are currently not supported in Windows or MacOs.\n"
     ]
    },
    {
     "data": {
      "application/vnd.jupyter.widget-view+json": {
       "model_id": "5ef824a025b54447b9c045ef10a458f9",
       "version_major": 2,
       "version_minor": 0
      },
      "text/plain": [
       "modules.json:   0%|          | 0.00/349 [00:00<?, ?B/s]"
      ]
     },
     "metadata": {},
     "output_type": "display_data"
    },
    {
     "name": "stderr",
     "output_type": "stream",
     "text": [
      "c:\\Users\\Marcell Suyanto\\anaconda3\\Lib\\site-packages\\huggingface_hub\\file_download.py:143: UserWarning: `huggingface_hub` cache-system uses symlinks by default to efficiently store duplicated files but your machine does not support them in C:\\Users\\Marcell Suyanto\\.cache\\huggingface\\hub\\models--sentence-transformers--all-MiniLM-L6-v2. Caching files will still work but in a degraded version that might require more space on your disk. This warning can be disabled by setting the `HF_HUB_DISABLE_SYMLINKS_WARNING` environment variable. For more details, see https://huggingface.co/docs/huggingface_hub/how-to-cache#limitations.\n",
      "To support symlinks on Windows, you either need to activate Developer Mode or to run Python as an administrator. In order to activate developer mode, see this article: https://docs.microsoft.com/en-us/windows/apps/get-started/enable-your-device-for-development\n",
      "  warnings.warn(message)\n"
     ]
    },
    {
     "data": {
      "application/vnd.jupyter.widget-view+json": {
       "model_id": "5c05b8d3776c4eef9a8a5b46ce20c489",
       "version_major": 2,
       "version_minor": 0
      },
      "text/plain": [
       "config_sentence_transformers.json:   0%|          | 0.00/116 [00:00<?, ?B/s]"
      ]
     },
     "metadata": {},
     "output_type": "display_data"
    },
    {
     "data": {
      "application/vnd.jupyter.widget-view+json": {
       "model_id": "1dafcc8a7580488fb907bb354c0afb42",
       "version_major": 2,
       "version_minor": 0
      },
      "text/plain": [
       "README.md: 0.00B [00:00, ?B/s]"
      ]
     },
     "metadata": {},
     "output_type": "display_data"
    },
    {
     "data": {
      "application/vnd.jupyter.widget-view+json": {
       "model_id": "3787f217700d49f6a2cc22b52954b18e",
       "version_major": 2,
       "version_minor": 0
      },
      "text/plain": [
       "sentence_bert_config.json:   0%|          | 0.00/53.0 [00:00<?, ?B/s]"
      ]
     },
     "metadata": {},
     "output_type": "display_data"
    },
    {
     "data": {
      "application/vnd.jupyter.widget-view+json": {
       "model_id": "6bf5e9b9d757494b8ae1e41019be7b0d",
       "version_major": 2,
       "version_minor": 0
      },
      "text/plain": [
       "config.json:   0%|          | 0.00/612 [00:00<?, ?B/s]"
      ]
     },
     "metadata": {},
     "output_type": "display_data"
    },
    {
     "name": "stderr",
     "output_type": "stream",
     "text": [
      "Xet Storage is enabled for this repo, but the 'hf_xet' package is not installed. Falling back to regular HTTP download. For better performance, install the package with: `pip install huggingface_hub[hf_xet]` or `pip install hf_xet`\n"
     ]
    },
    {
     "data": {
      "application/vnd.jupyter.widget-view+json": {
       "model_id": "194cc711bf7e4f6fa35eaec94f6bb832",
       "version_major": 2,
       "version_minor": 0
      },
      "text/plain": [
       "model.safetensors:   0%|          | 0.00/90.9M [00:00<?, ?B/s]"
      ]
     },
     "metadata": {},
     "output_type": "display_data"
    },
    {
     "data": {
      "application/vnd.jupyter.widget-view+json": {
       "model_id": "edaa7ecdd9004f2c82d1b43a099f6012",
       "version_major": 2,
       "version_minor": 0
      },
      "text/plain": [
       "tokenizer_config.json:   0%|          | 0.00/350 [00:00<?, ?B/s]"
      ]
     },
     "metadata": {},
     "output_type": "display_data"
    },
    {
     "data": {
      "application/vnd.jupyter.widget-view+json": {
       "model_id": "39cfdbb3244e45e7a2517fd05c3c8e57",
       "version_major": 2,
       "version_minor": 0
      },
      "text/plain": [
       "vocab.txt: 0.00B [00:00, ?B/s]"
      ]
     },
     "metadata": {},
     "output_type": "display_data"
    },
    {
     "data": {
      "application/vnd.jupyter.widget-view+json": {
       "model_id": "c23b35e1883a4ccfa7aa385e838b38a2",
       "version_major": 2,
       "version_minor": 0
      },
      "text/plain": [
       "tokenizer.json: 0.00B [00:00, ?B/s]"
      ]
     },
     "metadata": {},
     "output_type": "display_data"
    },
    {
     "data": {
      "application/vnd.jupyter.widget-view+json": {
       "model_id": "d37da3e23fd44762990a2c3fce98022c",
       "version_major": 2,
       "version_minor": 0
      },
      "text/plain": [
       "special_tokens_map.json:   0%|          | 0.00/112 [00:00<?, ?B/s]"
      ]
     },
     "metadata": {},
     "output_type": "display_data"
    },
    {
     "data": {
      "application/vnd.jupyter.widget-view+json": {
       "model_id": "cd78847c50764270af49362e75b10be7",
       "version_major": 2,
       "version_minor": 0
      },
      "text/plain": [
       "config.json:   0%|          | 0.00/190 [00:00<?, ?B/s]"
      ]
     },
     "metadata": {},
     "output_type": "display_data"
    },
    {
     "data": {
      "text/plain": [
       "[('internship', 0.4314),\n",
       " ('investment', 0.417),\n",
       " ('hong', 0.3741),\n",
       " ('requirements', 0.3351),\n",
       " ('industries', 0.3248)]"
      ]
     },
     "execution_count": 2,
     "metadata": {},
     "output_type": "execute_result"
    }
   ],
   "source": [
    "import keybert\n",
    "model = keybert.KeyBERT()"
   ]
  },
  {
   "cell_type": "code",
   "execution_count": 4,
   "id": "ca555e77",
   "metadata": {},
   "outputs": [
    {
     "data": {
      "text/plain": [
       "['Participate in the daily research and investment work',\n",
       " 'Assist in the information collection and data processing of the research topics and investment projects',\n",
       " 'Assist in tracking and analyzing the public information of the industries and companies of the investment targets',\n",
       " 'Handle other tasks as assigned by leadership',\n",
       " \"Requirements',Authorized to work in Hong Kong during the internship period\",\n",
       " 'Full-time undergraduate/ postgraduate degree student with outstanding academic background',\n",
       " \"Minimum completion of Bachelors' degree\",\n",
       " 'Internship period must be at least two months',\n",
       " 'Onboard ASAP',\n",
       " 'Please send your CV to email: wushuyang@sigchina.com']"
      ]
     },
     "execution_count": 4,
     "metadata": {},
     "output_type": "execute_result"
    }
   ],
   "source": [
    "text = \"Participate in the daily research and investment work\\nAssist in the information collection and data processing of the research topics and investment projects\\nAssist in tracking and analyzing the public information of the industries and companies of the investment targets\\nHandle other tasks as assigned by leadership\\nRequirements',Authorized to work in Hong Kong during the internship period\\nFull-time undergraduate/ postgraduate degree student with outstanding academic background\\nMinimum completion of Bachelors' degree\\nInternship period must be at least two months\\nOnboard ASAP\\nPlease send your CV to email: wushuyang@sigchina.com\"\n",
    "\n",
    "texts = text.split(\"\\n\")\n",
    "texts"
   ]
  },
  {
   "cell_type": "code",
   "execution_count": 5,
   "id": "e579cb8c",
   "metadata": {},
   "outputs": [
    {
     "data": {
      "text/plain": [
       "[[('research and investment', 0.7322),\n",
       "  ('daily research and', 0.7116),\n",
       "  ('daily research', 0.6975),\n",
       "  ('the daily research', 0.6658),\n",
       "  ('investment work', 0.6442)],\n",
       " [('topics and investment', 0.6326),\n",
       "  ('investment projects', 0.6186),\n",
       "  ('research topics and', 0.5679),\n",
       "  ('information collection and', 0.5394),\n",
       "  ('the research topics', 0.539)],\n",
       " [('investment targets', 0.5591),\n",
       "  ('the investment targets', 0.5377),\n",
       "  ('public information of', 0.5252),\n",
       "  ('tracking and analyzing', 0.5158),\n",
       "  ('the public information', 0.4949)],\n",
       " [('assigned by leadership', 0.7672),\n",
       "  ('tasks as assigned', 0.7513),\n",
       "  ('handle other tasks', 0.7348),\n",
       "  ('leadership', 0.5729),\n",
       "  ('other tasks', 0.5656)],\n",
       " [('work in hong', 0.6396),\n",
       "  ('internship period', 0.564),\n",
       "  ('in hong kong', 0.5488),\n",
       "  ('the internship period', 0.5424),\n",
       "  ('hong kong during', 0.5381)],\n",
       " [('full time undergraduate', 0.801),\n",
       "  ('undergraduate postgraduate', 0.6925),\n",
       "  ('postgraduate degree student', 0.6905),\n",
       "  ('undergraduate postgraduate degree', 0.6844),\n",
       "  ('outstanding academic background', 0.6574)],\n",
       " [('completion of bachelors', 0.8191),\n",
       "  ('of bachelors degree', 0.7494),\n",
       "  ('bachelors degree', 0.7446),\n",
       "  ('of bachelors', 0.6586),\n",
       "  ('bachelors', 0.6484)],\n",
       " [('internship period must', 0.8669),\n",
       "  ('internship period', 0.8625),\n",
       "  ('internship', 0.6897),\n",
       "  ('least two months', 0.451),\n",
       "  ('months', 0.3709)],\n",
       " [('onboard asap', 1.0), ('onboard', 0.8337), ('asap', 0.513)],\n",
       " [('send your cv', 0.7523),\n",
       "  ('your cv to', 0.6762),\n",
       "  ('email wushuyang sigchina', 0.667),\n",
       "  ('cv to email', 0.6357),\n",
       "  ('cv to', 0.6326)]]"
      ]
     },
     "execution_count": 5,
     "metadata": {},
     "output_type": "execute_result"
    }
   ],
   "source": [
    "keyphrases = []\n",
    "for text in texts:\n",
    "    keyphrases.append(model.extract_keywords(text, keyphrase_ngram_range=(1,3), stop_words=None))\n",
    "keyphrases"
   ]
  }
 ],
 "metadata": {
  "kernelspec": {
   "display_name": "base",
   "language": "python",
   "name": "python3"
  },
  "language_info": {
   "codemirror_mode": {
    "name": "ipython",
    "version": 3
   },
   "file_extension": ".py",
   "mimetype": "text/x-python",
   "name": "python",
   "nbconvert_exporter": "python",
   "pygments_lexer": "ipython3",
   "version": "3.11.5"
  }
 },
 "nbformat": 4,
 "nbformat_minor": 5
}
