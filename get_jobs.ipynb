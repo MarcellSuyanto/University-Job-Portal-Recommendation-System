{
 "cells": [
  {
   "cell_type": "code",
   "execution_count": 2,
   "id": "c55b8e01",
   "metadata": {},
   "outputs": [],
   "source": [
    "from selenium import webdriver\n",
    "from selenium.webdriver.common.by import By\n",
    "from selenium.webdriver.support.ui import WebDriverWait\n",
    "from selenium.webdriver.support import expected_conditions as EC\n",
    "from dotenv import load_dotenv\n",
    "import os\n",
    "import time\n",
    "from datetime import datetime, timedelta\n",
    "import pandas as pd\n",
    "import sqlite3\n",
    "import json"
   ]
  },
  {
   "cell_type": "code",
   "execution_count": 3,
   "id": "708827b7",
   "metadata": {},
   "outputs": [],
   "source": [
    "load_dotenv()\n",
    "user = os.getenv(\"UID\")\n",
    "password = os.getenv(\"PASSWORD\")\n",
    "\n",
    "#JOB TYPE: \n",
    "# Graduate \n",
    "# Internsip \n",
    "# Temporary \n",
    "# Summer\n",
    "job_type = \"Internship\""
   ]
  },
  {
   "cell_type": "markdown",
   "id": "8130e26a",
   "metadata": {},
   "source": [
    "<h2>Logging into the Job Portal</h2>"
   ]
  },
  {
   "cell_type": "code",
   "execution_count": 4,
   "id": "73fb9b37",
   "metadata": {},
   "outputs": [],
   "source": [
    "driver = webdriver.Chrome()\n",
    "driver.get(\"https://www.cedars.hku.hk/netjobs\")\n",
    "main_page = driver.current_window_handle\n",
    "\n",
    "# Click on Student Login\n",
    "student_login = driver.find_element(By.XPATH, \"//a[text()='HKU Student']\")\n",
    "student_login.click()\n",
    "\n",
    "#Input email and log in\n",
    "email_input = WebDriverWait(driver, timeout=10).until(\n",
    "    EC.presence_of_element_located((By.ID, \"email\"))\n",
    ")\n",
    "login_button = driver.find_element(By.ID, \"login_btn\")\n",
    "\n",
    "email_input.send_keys(user)\n",
    "login_button.click()\n",
    "\n",
    "#Input password\n",
    "password_input = WebDriverWait(driver, timeout=10).until(\n",
    "    EC.presence_of_element_located((By.ID, \"passwordInput\"))\n",
    ")\n",
    "sign_in_button = driver.find_element(By.ID, \"submitButton\")\n",
    "password_input.send_keys(password)\n",
    "sign_in_button.click()\n",
    "\n",
    "#Trust Page\n",
    "continue_button = WebDriverWait(driver, timeout=10).until(\n",
    "    EC.presence_of_element_located((By.ID, \"idSIButton9\"))\n",
    ")\n",
    "continue_button.click()\n",
    "time.sleep(3)\n",
    "#Stay Singed in page\n",
    "stay_button = WebDriverWait(driver, timeout=10).until(\n",
    "    EC.presence_of_element_located((By.XPATH, \"//input[@type='submit' and @id='idSIButton9']\"))\n",
    ")\n",
    "stay_button.click()\n",
    "\n"
   ]
  },
  {
   "cell_type": "markdown",
   "id": "4010562f",
   "metadata": {},
   "source": [
    "<h2>Job Portal Page</h2>"
   ]
  },
  {
   "cell_type": "markdown",
   "id": "0b6fdaf4",
   "metadata": {},
   "source": [
    "**Navigate to Internship Page**"
   ]
  },
  {
   "cell_type": "code",
   "execution_count": 5,
   "id": "48a09541",
   "metadata": {},
   "outputs": [],
   "source": [
    "check_box = WebDriverWait(driver, 10).until(\n",
    "    EC.visibility_of_element_located((By.XPATH, \"//input[@type='checkbox']\"))\n",
    ")\n",
    "check_box.click()\n",
    "agree_btn = WebDriverWait(driver,10).until(\n",
    "    EC.element_to_be_clickable((By.ID, \"btn-agree\"))\n",
    ")\n",
    "agree_btn.click()"
   ]
  },
  {
   "cell_type": "code",
   "execution_count": 6,
   "id": "b1557e0f",
   "metadata": {},
   "outputs": [],
   "source": [
    "time.sleep(1)\n",
    "internship_button = driver.find_element(By.XPATH, f\"//a[text()='{job_type} (']\")\n",
    "internship_button.click()"
   ]
  },
  {
   "cell_type": "code",
   "execution_count": 7,
   "id": "111ada2a",
   "metadata": {},
   "outputs": [
    {
     "data": {
      "text/plain": [
       "'2025-07-02'"
      ]
     },
     "execution_count": 7,
     "metadata": {},
     "output_type": "execute_result"
    }
   ],
   "source": [
    "\n",
    "yesterday = datetime.now() - timedelta(1)\n",
    "yesterday = datetime.strftime(yesterday, '%Y-%m-%d')\n",
    "yesterday"
   ]
  },
  {
   "cell_type": "code",
   "execution_count": 8,
   "id": "946f51c4",
   "metadata": {},
   "outputs": [],
   "source": [
    "def clean_data(data):\n",
    "    # data: list of strings corresponding to job details\n",
    "    for i in range(len(data)):\n",
    "        data[i] = data[i].split(':\\n')\n",
    "    return data\n",
    "        "
   ]
  },
  {
   "cell_type": "code",
   "execution_count": 9,
   "id": "2c95c1a8",
   "metadata": {},
   "outputs": [],
   "source": [
    "def get_data(driver):\n",
    "    WebDriverWait(driver, 10).until(EC.number_of_windows_to_be(2))\n",
    "\n",
    "    for window_handle in driver.window_handles:\n",
    "        if window_handle != main_page:\n",
    "            driver.switch_to.window(window_handle)\n",
    "            break\n",
    "    \n",
    "    WebDriverWait(driver, 10).until(\n",
    "        EC.presence_of_element_located((By.XPATH, \"//div[@id='content']\"))\n",
    "    )\n",
    "    extract_data = driver.find_elements(By.XPATH, \"//div[@id='content']//div[contains(@class, 'crow')]\")\n",
    "    data = [i.text for i in extract_data if i.text.strip()]\n",
    "    \n",
    "    driver.close()\n",
    "    driver.switch_to.window(main_page)\n",
    "    return data"
   ]
  },
  {
   "cell_type": "code",
   "execution_count": 10,
   "id": "93560df4",
   "metadata": {},
   "outputs": [],
   "source": [
    "details = []\n",
    "jobs = driver.find_elements(By.XPATH, \"//table[@id='search_jobs']/tbody/tr\")\n",
    "\n",
    "for i, job in enumerate(jobs):\n",
    "    job.click()\n",
    "    data = clean_data(get_data(driver))\n",
    "    details.append(data)\n",
    "\n",
    "driver.close()\n",
    "    "
   ]
  },
  {
   "cell_type": "code",
   "execution_count": 11,
   "id": "d450f684",
   "metadata": {},
   "outputs": [],
   "source": [
    "\n",
    "def format_json(job):\n",
    "    job_json = {}   \n",
    "    for item in job:\n",
    "        if len(item) >= 2:  \n",
    "            key = item[0]\n",
    "            value = item[1]\n",
    "            job_json[key] = value\n",
    "    return json.dumps(job_json)  "
   ]
  },
  {
   "cell_type": "code",
   "execution_count": 13,
   "id": "a858e292",
   "metadata": {},
   "outputs": [
    {
     "data": {
      "text/plain": [
       "[['Job ID', 'G2404501'],\n",
       " ['Posting Date', '2025-06-26'],\n",
       " ['Employment Type', 'Internship'],\n",
       " ['Employment Mode', 'Part-time'],\n",
       " ['Company Name (Eng)', 'EternityX Marketing Technology Limited'],\n",
       " ['Company Name (Chi)', '恆力數宇科技有限公司'],\n",
       " ['Nature of Business', 'Advertising / Public Relations / Marketing'],\n",
       " ['Origin of Company Ownership', 'Hong Kong'],\n",
       " ['No. of Employees', '50-100 employees'],\n",
       " ['Position Offered', 'AI-driven Operations Internship (MarTech industry)'],\n",
       " ['No. of Vacancies', '1'],\n",
       " ['Job Nature', 'IT / Programming'],\n",
       " ['Job Description',\n",
       "  'Overview\\nWe are seeking university students interested in entering the marketing technology field with an AI background. You will support the Operations Manager with day-to-day tasks in enhancing business efficiency and workflow automation.\\n \\nJob Responsibilities',\n",
       "  'Conduct market research and effectively communicate business findings and insights\\nAssist the Operations Manager in designing, developing and testing automation workflows to improve operational efficiency\\nMonitor and troubleshoot workflow performance with the support and guidance from Operations Manager\\nUnderstand and document and assist in updating department Standard Operating Procedures (SOPs) to reflect best practices and ensure compliance\\nAssist in any ad-hoc assignments\\n  Requirements',\n",
       "  'Undergraduate or degree holder with relevant majors (Data Science, Operations, Information Systems, or related fields).\\nBasic understanding of n8n, Make, or other automation platforms.\\nExperience in scripting languages (e.g., JavaScript, Python, or JSON) and an interest in AI technologies is a plus.\\nStrong analytical, organizational and communication skills. Self-motivated, independent and eager to learn.\\nPossessing problem-solving mindset and curiosity about AI-powered workflows.\\nImpeccable attention to detail. Sense of ownership with commitment to ongoing projects.\\nFluent English & Mandarin; proficiency in Cantonese is a plus.\\nBe able to work for consecutive 2 to 3 days per week on a regular basis.\\n    What you enjoy',\n",
       "  \"HK$70 per hour\\nFlexible working hours\\nOn-the-job training\\nA collaborative, innovative and multicultural working culture\\nThe chance to be part of a rapidly growing company shaping the future of media planning, buying, and integrated communications, supporting China outbound brands and foreign companies seeking to engage Chinese audiences worldwide\\nGaining hands-on experience in market research, automation development, and operational procedures by leveraging AI\\n  Visit our website to learn more: https://www.eternityx.com/  \\nIf you are passionate about digital advertising, eager to take on new challenges, and ready to contribute to our Company's success, we would love to hear from you. Apply now and be part of our dynamic team!\\n \\nEternityX Marketing Technology Limited is an equal opportunity employer. All information collected will be used for recruitment related purposes ONLY and kept in strict confidence\"],\n",
       " ['Basic Salary', 'HKD 70 per Hour'],\n",
       " ['Work Location', 'Hong Kong'],\n",
       " ['Work Mode', 'Fully on-site work'],\n",
       " ['Fields of Study Required', 'All disciplines'],\n",
       " ['Level of Award ', 'Bachelor, Master'],\n",
       " ['No. of working hours per day', '8'],\n",
       " ['No. of working days per week', '3'],\n",
       " ['Closing Date for Application', '2025-07-25'],\n",
       " ['Application should be submitted by/via:'],\n",
       " ['Online via NETjobs:'],\n",
       " ['Application Documents Required', 'CV']]"
      ]
     },
     "execution_count": 13,
     "metadata": {},
     "output_type": "execute_result"
    }
   ],
   "source": [
    "details[2]"
   ]
  },
  {
   "cell_type": "markdown",
   "id": "9cb50261",
   "metadata": {},
   "source": [
    "**Setting up the Database**"
   ]
  },
  {
   "cell_type": "markdown",
   "id": "6b27cd2a",
   "metadata": {},
   "source": [
    "Data types: NULL INTEGER REAL TEXT BLOB"
   ]
  },
  {
   "cell_type": "code",
   "execution_count": 3,
   "id": "242d68d3",
   "metadata": {},
   "outputs": [
    {
     "data": {
      "text/plain": [
       "<sqlite3.Cursor at 0x1daca6f8640>"
      ]
     },
     "execution_count": 3,
     "metadata": {},
     "output_type": "execute_result"
    }
   ],
   "source": [
    "#Set up a connection\n",
    "conn = sqlite3.connect('jobs.db')\n",
    "cursor = conn.cursor()\n",
    "create_table_query = \"\"\"\n",
    "CREATE TABLE IF NOT EXISTS jobs (\n",
    "    JobID TEXT PRIMARY KEY,\n",
    "    PostingDate TEXT,\n",
    "    EmploymentType TEXT,\n",
    "    EmplymentMode TEXT,\n",
    "    CompanyNameEng TEXT,\n",
    "    CompanyNameChi TEXT, \n",
    "    NatureOfBusiness TEXT,\n",
    "    OriginOfCompanyOwnership TEXT,\n",
    "    NoOfEmployees TEXT,\n",
    "    PositionOffered TEXT,\n",
    "    NoOfVacancies TEXT,\n",
    "    JobNature TEXT,\n",
    "    JobDescription TEXT,\n",
    "    BasicSalary TEXT,\n",
    "    WorkLocatin TEXT, \n",
    "    WorkMode TEXT,\n",
    "    FieldsOfStudyRequired TEXT,\n",
    "    LevelOfAward TEXT,\n",
    "    NoOfWorkingHoursPerDay INTEGER,\n",
    "    NoOfWorkingHoursPerWeek INTEGER,\n",
    "    ClosingDataForApplication TEXT,\n",
    "    ApplicationShouldBeSubmittedVia TEXT,\n",
    "    ApplicationDocumentsRequired TEXT\n",
    ");\n",
    "\"\"\"\n",
    "\n",
    "cursor.execute(create_table_query)"
   ]
  },
  {
   "cell_type": "code",
   "execution_count": 12,
   "id": "18808b31",
   "metadata": {},
   "outputs": [],
   "source": [
    "\n",
    "\n",
    "import nbformat\n",
    "\n",
    "# Load the notebook\n",
    "with open('get_jobs.ipynb') as f:\n",
    "    notebook = nbformat.read(f, as_version=4)\n",
    "\n",
    "# Extract code cells\n",
    "code_cells = [cell.source for cell in notebook.cells if cell.cell_type == 'code']\n",
    "\n",
    "# Write to a .py file\n",
    "with open('output_script.py', 'w') as f:\n",
    "    for cell in code_cells:\n",
    "        f.write(cell + '\\n\\n')\n"
   ]
  }
 ],
 "metadata": {
  "kernelspec": {
   "display_name": "base",
   "language": "python",
   "name": "python3"
  },
  "language_info": {
   "codemirror_mode": {
    "name": "ipython",
    "version": 3
   },
   "file_extension": ".py",
   "mimetype": "text/x-python",
   "name": "python",
   "nbconvert_exporter": "python",
   "pygments_lexer": "ipython3",
   "version": "3.11.5"
  }
 },
 "nbformat": 4,
 "nbformat_minor": 5
}
