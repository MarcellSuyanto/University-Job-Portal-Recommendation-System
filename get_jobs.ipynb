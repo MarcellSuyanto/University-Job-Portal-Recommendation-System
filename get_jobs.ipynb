{
 "cells": [
  {
   "cell_type": "code",
   "execution_count": 93,
   "id": "c55b8e01",
   "metadata": {},
   "outputs": [],
   "source": [
    "from selenium import webdriver\n",
    "from selenium.webdriver.common.by import By\n",
    "from selenium.webdriver.support.ui import WebDriverWait\n",
    "from selenium.webdriver.support import expected_conditions as EC\n",
    "from dotenv import load_dotenv\n",
    "import os\n",
    "import time\n",
    "from datetime import datetime, timedelta\n",
    "import pandas as pd\n",
    "import keybert\n",
    "from nltk.corpus import stopwords\n",
    "import re \n"
   ]
  },
  {
   "cell_type": "code",
   "execution_count": 10,
   "id": "708827b7",
   "metadata": {},
   "outputs": [],
   "source": [
    "load_dotenv()\n",
    "user = os.getenv(\"UID\")\n",
    "password = os.getenv(\"PASSWORD\")\n",
    "\n",
    "#JOB TYPE: \n",
    "# Graduate \n",
    "# Internsip \n",
    "# Temporary \n",
    "# Summer\n",
    "job_type = \"Internship\""
   ]
  },
  {
   "cell_type": "markdown",
   "id": "8130e26a",
   "metadata": {},
   "source": [
    "<h2>Logging into the Job Portal</h2>"
   ]
  },
  {
   "cell_type": "code",
   "execution_count": null,
   "id": "73fb9b37",
   "metadata": {},
   "outputs": [],
   "source": [
    "driver = webdriver.Chrome()\n",
    "driver.get(\"https://www.cedars.hku.hk/netjobs\")\n",
    "main_page = driver.current_window_handle\n",
    "\n",
    "# Click on Student Login\n",
    "student_login = driver.find_element(By.XPATH, \"//a[text()='HKU Student']\")\n",
    "student_login.click()\n",
    "\n",
    "#Input email and log in\n",
    "email_input = WebDriverWait(driver, timeout=10).until(\n",
    "    EC.presence_of_element_located((By.ID, \"email\"))\n",
    ")\n",
    "login_button = driver.find_element(By.ID, \"login_btn\")\n",
    "\n",
    "email_input.send_keys(user)\n",
    "login_button.click()\n",
    "\n",
    "#Input password\n",
    "password_input = WebDriverWait(driver, timeout=10).until(\n",
    "    EC.presence_of_element_located((By.ID, \"passwordInput\"))\n",
    ")\n",
    "sign_in_button = driver.find_element(By.ID, \"submitButton\")\n",
    "password_input.send_keys(password)\n",
    "sign_in_button.click()\n",
    "\n",
    "#Trust Page\n",
    "continue_button = WebDriverWait(driver, timeout=10).until(\n",
    "    EC.presence_of_element_located((By.ID, \"idSIButton9\"))\n",
    ")\n",
    "continue_button.click()\n",
    "#Stay Singed in page\n",
    "stay_button = WebDriverWait(driver, timeout=10).until(\n",
    "    EC.visibility_of_element_located((By.XPATH, \"//input[@type='submit' and @id='idSIButton9']\"))\n",
    ")\n",
    "stay_button.click()\n",
    "\n",
    "check_box = WebDriverWait(driver, 10).until(\n",
    "    EC.visibility_of_element_located((By.XPATH, \"//input[@type='checkbox']\"))\n",
    ")\n",
    "check_box.click()\n",
    "agree_btn = WebDriverWait(driver,10).until(\n",
    "    EC.element_to_be_clickable((By.ID, \"btn-agree\"))\n",
    ")\n",
    "agree_btn.click()\n",
    "\n",
    "time.sleep(1)\n",
    "\n",
    "job_type_button = WebDriverWait(driver, 10).until(\n",
    "    EC.presence_of_element_located((By.XPATH, f\"//a[text()='{job_type} (']\"))\n",
    ")\n",
    "job_type_button.click()\n",
    "\n",
    "time.sleep(1)\n",
    "\n",
    "job_type_button = WebDriverWait(driver, 10).until(\n",
    "    EC.presence_of_element_located((By.XPATH, f\"//a[text()='{job_type} (']\"))\n",
    ")\n",
    "job_type_button.click()"
   ]
  },
  {
   "cell_type": "code",
   "execution_count": 19,
   "id": "111ada2a",
   "metadata": {},
   "outputs": [
    {
     "data": {
      "text/plain": [
       "'2025-07-18'"
      ]
     },
     "execution_count": 19,
     "metadata": {},
     "output_type": "execute_result"
    }
   ],
   "source": [
    "\n",
    "yesterday = datetime.now() - timedelta(1)\n",
    "yesterday = datetime.strftime(yesterday, '%Y-%m-%d')\n",
    "yesterday"
   ]
  },
  {
   "cell_type": "code",
   "execution_count": null,
   "id": "2c95c1a8",
   "metadata": {},
   "outputs": [],
   "source": [
    "def clean_data(data):\n",
    "    # data: list of strings corresponding to job details\n",
    "    for i in range(len(data)):\n",
    "        data[i] = data[i].split(':\\n')\n",
    "    return data\n",
    "\n",
    "def get_data(driver):\n",
    "    WebDriverWait(driver, 10).until(EC.number_of_windows_to_be(2))\n",
    "\n",
    "    for window_handle in driver.window_handles:\n",
    "        if window_handle != main_page:\n",
    "            driver.switch_to.window(window_handle)\n",
    "            break\n",
    "    \n",
    "    WebDriverWait(driver, 10).until(\n",
    "        EC.presence_of_element_located((By.XPATH, \"//div[@id='content']\"))\n",
    "    )\n",
    "    extract_data = driver.find_elements(By.XPATH, \"//div[@id='content']//div[contains(@class, 'crow')]\")\n",
    "    data = [i.text for i in extract_data if i.text.strip()]\n",
    "    \n",
    "    driver.close()\n",
    "    driver.switch_to.window(main_page)\n",
    "    return data\n",
    "\n",
    "details = []\n",
    "jobs = driver.find_elements(By.XPATH, \"//table[@id='search_jobs']/tbody/tr\")\n",
    "\n",
    "for i, job in enumerate(jobs):\n",
    "    job.click()\n",
    "    data = clean_data(get_data(driver))\n",
    "    details.append(data)\n",
    "\n",
    "driver.close()"
   ]
  },
  {
   "cell_type": "code",
   "execution_count": 23,
   "id": "a858e292",
   "metadata": {},
   "outputs": [
    {
     "data": {
      "text/plain": [
       "[['Job ID', 'G2500061'],\n",
       " ['Posting Date', '2025-07-16'],\n",
       " ['Employment Type', 'Internship'],\n",
       " ['Employment Mode', 'Full-time'],\n",
       " ['Company Name (Eng)', 'DRW Associates Hong Kong Limited'],\n",
       " ['Nature of Business', 'Banking / Financial Services'],\n",
       " ['Origin of Company Ownership', 'United States'],\n",
       " ['No. of Employees', '1000-5000 employees'],\n",
       " ['Position Offered', 'Quantitative Research Intern'],\n",
       " ['No. of Vacancies', '4'],\n",
       " ['Job Nature', 'Others'],\n",
       " ['Job Description',\n",
       "  \"Our formula for success is to hire exceptional people, encourage their ideas and reward their results.\\nAs a Quantitative Research Intern you will have an opportunity to solve challenging problems arising in a trading environment while utilizing the latest statistical scientific algorithms, machine learning techniques and derivatives pricing theory.  The teams focus on non-latency sensitive investment opportunities and multi-asset class derivatives strategies across geographies. Our teams emphasize cutting-edge innovative scientific research and collaboration, allowing you to gain a deeper understanding of quantitative trading. You will find great minds with diverse backgrounds, who are passionate about cultivating new ideas and exploring ways to bring them to life. You will use the team’s custom research infrastructure for simulation, back-testing, and validation of the proposed models. While your days will have you engrossed with complex technology projects, your evenings will be spent exploring the city with organized social events to truly discover what it’s like to live and work in Chicago.\\nHow you will make an impact…\\nCreate practical solutions to problems presented in the trading environment on either a systematic equity trading desk or a fixed income options desk\\nConduct statistical analysis of market data, historical trends, and relationships across multiple asset classes\\nFormulate and apply mathematical modeling, quantitative methods and machine learning techniques to identify and capture trading opportunities\\nWork closely with traders and researchers to build and refine research infrastructure and tools\\nWhat you bring to the team…\\nAre pursuing a Bachelor's, Master’s or PhD in a technical discipline with a focus on Statistics, Optimization, Machine Learning, Artificial Intelligence, Quantitative Finance or related fields graduating between December 2026 and August 2027\\nProficiency in Python programming experience using the Python machine learning stack: numpy, pandas, scikit-learn, etc.\\nProficient programming skills with experience exploring large datasets\\nStrong analytical and problem-solving skills including a solid foundation of statistics knowledge\\nWorking knowledge of probability theory, stochastic calculus and numerical algorithms such as finite differences, Monte Carlo simulation, etc.\\nSome exposure to Natural Language Processing and/or High-Performance Computing is a plus\\nExcellent written and verbal communication skills to report research results as well as methodologies\\nAdded bonus if you have been published in a top tier journal focusing on Natural Language Processing or High-Performance Computing\\nWhat to expect during the internship\\nMeaningful projects: Each project, advised by a trader, promotes a comprehensive learning experience and provides you with real-world work experience.\\nCommunity: Throughout the summer, we host a variety of educational, social and team-building activities to explore the city, foster friendships and camaraderie.\\nMentorship: You’ll build a professional relationship with an experienced mentor in your field. Mentors and mentees meet to discuss goals, challenges and professional development and explore the city together at our mentor outings.\\nEducation: As the trading industry continually evolves, both in terms of new products and transaction methods, the future will present us with unique opportunities and challenges. You’ll complete an options course taught by an experienced trader and participate in a technology immersion course to better understand how technology and trading intersect.\\nDRW is a diversified trading firm with over 3 decades of experience bringing sophisticated technology and exceptional people together to operate in markets around the world.  We value autonomy and the ability to quickly pivot to capture opportunities, so we operate using our own capital and trading at our own risk. \\nHeadquartered in Chicago with offices throughout the U.S., Canada, Europe, and Asia, we trade a variety of asset classes including Fixed Income, ETFs, Equities, FX, Commodities and Energy across all major global markets. We have also leveraged our expertise and technology to expand into three non-traditional strategies: real estate, venture capital and cryptoassets. \\nWe operate with respect, curiosity and open minds. The people who thrive here share our belief that it’s not just what we do that matters–it's how we do it.  DRW is a place of high expectations, integrity, innovation and a willingness to challenge consensus.  \\nFor more information about DRW's processing activities and our use of job applicants' data, please view our Privacy Notice at https://drw.com/privacy-notice.\\nCalifornia residents, please review the California Privacy Notice for information about certain legal rights at https://drw.com/california-privacy-notice.\\n \"],\n",
       " ['Basic Salary', 'HKD 92205 per Month'],\n",
       " ['Other Benefits',\n",
       "  'Housing and return flights for the duration of the internship will be fully covered by the firm if a student is identified for a role in Singapore. Upon successful completion of the internship, student will be awarded a completion bonus.'],\n",
       " ['Work Location', 'Hong Kong, Overseas - Singapore'],\n",
       " ['Work Mode', 'Fully on-site work'],\n",
       " ['Fields of Study Required',\n",
       "  'Actuarial Science\\nComputer Engineering\\nComputer Science\\nEconomics\\nMathematics\\nPhysics\\nQuantitative Finance\\nStatistics'],\n",
       " ['Level of Award ', 'Bachelor, Master, Doctorate'],\n",
       " ['No. of working hours per day', '8'],\n",
       " ['No. of working days per week', '5'],\n",
       " ['Closing Date for Application', '2025-08-10'],\n",
       " ['Application should be submitted by/via:'],\n",
       " ['Online Application at company website', 'https://grnh.se/nk0aytx51us'],\n",
       " ['Application Documents Required', 'CV, Transcript']]"
      ]
     },
     "execution_count": 23,
     "metadata": {},
     "output_type": "execute_result"
    }
   ],
   "source": [
    "details[2]"
   ]
  },
  {
   "cell_type": "code",
   "execution_count": 24,
   "id": "89b0ca56",
   "metadata": {},
   "outputs": [
    {
     "data": {
      "text/plain": [
       "{'Job ID': 20,\n",
       " 'Posting Date': 20,\n",
       " 'Employment Type': 20,\n",
       " 'Employment Mode': 20,\n",
       " 'Company Name (Eng)': 20,\n",
       " 'Company Name (Chi)': 10,\n",
       " 'Nature of Business': 20,\n",
       " 'Origin of Company Ownership': 20,\n",
       " 'No. of Employees': 20,\n",
       " 'Position Offered': 20,\n",
       " 'No. of Vacancies': 20,\n",
       " 'Job Nature': 20,\n",
       " 'Job Description': 20,\n",
       " 'Basic Salary': 20,\n",
       " 'Work Location': 20,\n",
       " 'Work Mode': 20,\n",
       " 'Fields of Study Required': 20,\n",
       " 'Level of Award ': 20,\n",
       " 'No. of working hours per day': 20,\n",
       " 'No. of working days per week': 20,\n",
       " 'Closing Date for Application': 20,\n",
       " 'Application should be submitted by/via:': 20,\n",
       " 'Email': 11,\n",
       " 'Application Documents Required': 20,\n",
       " 'Online via NETjobs:': 4,\n",
       " 'Other Benefits': 3,\n",
       " 'Online Application at company website': 8,\n",
       " 'Application should be addressed to': 3}"
      ]
     },
     "execution_count": 24,
     "metadata": {},
     "output_type": "execute_result"
    }
   ],
   "source": [
    "job_details = dict()\n",
    "for job in details:\n",
    "    for detail in job:\n",
    "        if detail[0] not in job_details:\n",
    "            job_details[detail[0]] = 1\n",
    "        else:\n",
    "            job_details[detail[0]] += 1\n",
    "\n",
    "job_details\n"
   ]
  },
  {
   "cell_type": "code",
   "execution_count": 25,
   "id": "705b8324",
   "metadata": {},
   "outputs": [],
   "source": [
    "jobs_data = []\n",
    "for job in details:\n",
    "    jobs_dict = dict()\n",
    "    for detail in job:\n",
    "        if len(detail) == 2: \n",
    "            jobs_dict[detail[0]] = detail[1]\n",
    "        elif len(detail) > 2:  \n",
    "            jobs_dict[detail[0]] = ' '.join(detail[1:])\n",
    "        elif len(detail) == 1:\n",
    "            if detail[0] not in jobs_dict:\n",
    "                jobs_dict[detail[0]] = 1\n",
    "            else:\n",
    "                jobs_dict[detail[0]] += 1\n",
    "    jobs_data.append(jobs_dict)\n",
    "jobs_df = pd.DataFrame(jobs_data)"
   ]
  },
  {
   "cell_type": "code",
   "execution_count": 26,
   "id": "6e54a5cf",
   "metadata": {},
   "outputs": [
    {
     "data": {
      "text/plain": [
       "Index(['Job ID', 'Posting Date', 'Employment Type', 'Employment Mode',\n",
       "       'Company Name (Eng)', 'Company Name (Chi)', 'Nature of Business',\n",
       "       'Origin of Company Ownership', 'No. of Employees', 'Position Offered',\n",
       "       'No. of Vacancies', 'Job Nature', 'Job Description', 'Basic Salary',\n",
       "       'Work Location', 'Work Mode', 'Fields of Study Required',\n",
       "       'Level of Award ', 'No. of working hours per day',\n",
       "       'No. of working days per week', 'Closing Date for Application',\n",
       "       'Application should be submitted by/via:', 'Email',\n",
       "       'Application Documents Required', 'Online via NETjobs:',\n",
       "       'Other Benefits', 'Online Application at company website',\n",
       "       'Application should be addressed to'],\n",
       "      dtype='object')"
      ]
     },
     "execution_count": 26,
     "metadata": {},
     "output_type": "execute_result"
    }
   ],
   "source": [
    "# jobs_df.to_json(\"data.json\", orient=\"records\", indent=4)\n",
    "\n",
    "jobs_df.columns"
   ]
  },
  {
   "cell_type": "code",
   "execution_count": 92,
   "id": "0ab6e8b8",
   "metadata": {},
   "outputs": [
    {
     "name": "stdout",
     "output_type": "stream",
     "text": [
      "Apply your experience and knowledge in areas of accelerated computing and machine learning (esp. AI4S, including weather, CFD, Quantum, materials/chemistry, Robotic, Life science).\n",
      "Conduct AI engineering via playing with software and hardware and collaborating with external researchers. Partner with internal groups to transfer technologies and innovate products.\n",
      "Assist in building AIGC, AI4S tools with the state-of-the-art AI models. It can also help the AI community use multiple NVIDIA SDKs or frameworks (esp. PhysicsNeMo/Modulus/CUDA-Q/Isaac/BioNeMo) to realize fantastic idea!\n",
      "Mainly works in Beijing/Shanghai/Shenzhen office, 3~4 days/week with at least 6 months available.\n"
     ]
    },
    {
     "data": {
      "text/plain": [
       "'\\nAbout Us\\nRole Overview / Job Responsibilities / Job Overview / Job Duties / What we offer / Job Description / Key Responsibilities\\nKey Responsibilities\\nRequirements/Qualifications\\n'"
      ]
     },
     "execution_count": 92,
     "metadata": {},
     "output_type": "execute_result"
    }
   ],
   "source": [
    "print(jobs_df['Job Description'].iloc[19])\n",
    "\n",
    "\"\"\"\n",
    "About Us\n",
    "Role Overview / Job Responsibilities / Job Overview / Job Duties / What we offer / Job Description / Key Responsibilities\n",
    "Key Responsibilities\n",
    "Requirements/Qualifications\n",
    "\"\"\""
   ]
  },
  {
   "cell_type": "code",
   "execution_count": null,
   "id": "f4f9a2c8",
   "metadata": {},
   "outputs": [],
   "source": [
    "def clean_desc(desc):\n",
    "    desc = re.split(r'', desc)\n",
    "    return desc"
   ]
  },
  {
   "cell_type": "code",
   "execution_count": 67,
   "id": "4e6d16d7",
   "metadata": {},
   "outputs": [],
   "source": [
    "def get_tags(input_df:pd.DataFrame, model:keybert) -> list:\n",
    "    tags = []\n",
    "    job_nature = input_df['Job Nature'].replace('/', ' ') \n",
    "    job_desc = clean_desc(input_df['Job Description'])\n",
    "    pos_offered = input_df['Position Offered'] \n",
    "    nature_of_business = input_df['Nature of Business'] \n",
    "\n",
    "    tags.append(model.extract_keywords(job_desc, stop_words=stopwords.words('english')))\n",
    "    return tags"
   ]
  },
  {
   "cell_type": "code",
   "execution_count": 57,
   "id": "9692bd70",
   "metadata": {},
   "outputs": [],
   "source": [
    "model = keybert.KeyBERT()"
   ]
  },
  {
   "cell_type": "code",
   "execution_count": 73,
   "id": "56701930",
   "metadata": {},
   "outputs": [
    {
     "name": "stdout",
     "output_type": "stream",
     "text": [
      "Role Overview\n",
      "We are seeking a proactive and technically-inclined Business Analyst to join our innovation team. In this role, you will be the vital link between our business stakeholders and engineering teams, driving the development of proof-of-concept (POC) and Mobile APP projects from initial idea to functional prototype. You will be responsible for analyzing business needs, defining clear requirements, and ensuring that the proposed technical solutions align with strategic goals. Your ability to understand and articulate both business objectives and technical possibilities will be key to our success in rapidly testing and iterating on new, innovative solutions.\n",
      "\n",
      "Key Responsibilities\n",
      "Requirements Analysis: Collaborate with product managers, designers, and business stakeholders to elicit, analyze, and refine requirements for new product features and POC projects.\n",
      "Technical Liaison: Act as the primary bridge between business users and the development team, translating business needs into detailed functional and technical specifications.\n",
      "Solution & Feasibility Analysis: Leverage your understanding of Cloud and AI platforms (such as AWS Bedrock, Sagemaker, or equivalents) to assess the feasibility of new ideas and identify potential business opportunities.\n",
      "Data-Driven Insights: Utilize hands-on skills with SQL to query databases for data analysis, validate requirements, and support data-driven decision-making.\n",
      "Process & System Documentation: Create and maintain comprehensive documentation, including business process flows, use cases, technical requirements, and project roadmaps.\n",
      "Problem Solving & Communication: Employ strong analytical and problem-solving skills to address business challenges and effectively communicate complex concepts to both technical and non-technical audiences.\n",
      "Agile Project management Understanding: Maintain a working knowledge of tools like Jira, Confulence, etc to better understand project management constraints, participate in Agile ceremonies, and facilitate communication with Designer and Engineers.\n",
      "[[('analyst', 0.3982), ('agile', 0.3896), ('requirements', 0.3684), ('development', 0.3553), ('role', 0.3402)]]\n"
     ]
    }
   ],
   "source": [
    "input_data = jobs_df[['Job ID', 'Job Nature', 'Job Description', 'Position Offered', 'Nature of Business']]\n",
    "print(input_data.iloc[1]['Job Description'])\n",
    "print(get_tags(input_data.iloc[1], model))"
   ]
  },
  {
   "cell_type": "markdown",
   "id": "7a4b6a71",
   "metadata": {},
   "source": [
    "Job ID  \n",
    "Company Name  \n",
    "Nature of Business  \n",
    "Position Offered  \n",
    "Job Nature\n",
    "Job Description"
   ]
  },
  {
   "cell_type": "markdown",
   "id": "6b27cd2a",
   "metadata": {},
   "source": [
    "Data types: NULL INTEGER REAL TEXT BLOB"
   ]
  },
  {
   "cell_type": "code",
   "execution_count": null,
   "id": "242d68d3",
   "metadata": {},
   "outputs": [],
   "source": [
    "#Set up a connection\n",
    "# conn = sqlite3.connect('jobs.db')\n",
    "# cursor = conn.cursor()\n",
    "# create_table_query = \"\"\"\n",
    "# CREATE TABLE IF NOT EXISTS jobs (\n",
    "#     JobID TEXT PRIMARY KEY,\n",
    "#     PostingDate TEXT,\n",
    "#     EmploymentType TEXT,\n",
    "#     EmplymentMode TEXT,\n",
    "#     CompanyNameEng TEXT,\n",
    "#     CompanyNameChi TEXT, \n",
    "#     NatureOfBusiness TEXT,\n",
    "#     OriginOfCompanyOwnership TEXT,\n",
    "#     NoOfEmployees TEXT,\n",
    "#     PositionOffered TEXT,\n",
    "#     NoOfVacancies TEXT,\n",
    "#     JobNature TEXT,\n",
    "#     JobDescription TEXT,\n",
    "#     BasicSalary TEXT,\n",
    "#     WorkLocatin TEXT, \n",
    "#     WorkMode TEXT,\n",
    "#     FieldsOfStudyRequired TEXT,\n",
    "#     LevelOfAward TEXT,\n",
    "#     NoOfWorkingHoursPerDay INTEGER,\n",
    "#     NoOfWorkingHoursPerWeek INTEGER,\n",
    "#     ClosingDataForApplication TEXT,\n",
    "#     ApplicationShouldBeSubmittedVia TEXT,\n",
    "#     ApplicationDocumentsRequired TEXT\n",
    "# );\n",
    "# \"\"\"\n",
    "\n",
    "# cursor.execute(create_table_query)"
   ]
  },
  {
   "cell_type": "code",
   "execution_count": null,
   "id": "18808b31",
   "metadata": {},
   "outputs": [],
   "source": [
    "\n",
    "\n",
    "import nbformat\n",
    "\n",
    "# Load the notebook\n",
    "with open('get_jobs.ipynb') as f:\n",
    "    notebook = nbformat.read(f, as_version=4)\n",
    "\n",
    "# Extract code cells\n",
    "code_cells = [cell.source for cell in notebook.cells if cell.cell_type == 'code']\n",
    "\n",
    "# Write to a .py file\n",
    "with open('output_script.py', 'w') as f:\n",
    "    for cell in code_cells:\n",
    "        f.write(cell + '\\n\\n')\n"
   ]
  }
 ],
 "metadata": {
  "kernelspec": {
   "display_name": "base",
   "language": "python",
   "name": "python3"
  },
  "language_info": {
   "codemirror_mode": {
    "name": "ipython",
    "version": 3
   },
   "file_extension": ".py",
   "mimetype": "text/x-python",
   "name": "python",
   "nbconvert_exporter": "python",
   "pygments_lexer": "ipython3",
   "version": "3.11.5"
  }
 },
 "nbformat": 4,
 "nbformat_minor": 5
}
