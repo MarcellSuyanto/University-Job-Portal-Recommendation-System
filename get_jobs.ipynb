{
 "cells": [
  {
   "cell_type": "code",
   "execution_count": 1,
   "id": "c55b8e01",
   "metadata": {},
   "outputs": [
    {
     "name": "stderr",
     "output_type": "stream",
     "text": [
      "c:\\Users\\Marcell Suyanto\\anaconda3\\Lib\\site-packages\\pandas\\core\\arrays\\masked.py:61: UserWarning: Pandas requires version '1.3.6' or newer of 'bottleneck' (version '1.3.5' currently installed).\n",
      "  from pandas.core import (\n"
     ]
    }
   ],
   "source": [
    "from selenium import webdriver\n",
    "from selenium.webdriver.common.by import By\n",
    "from selenium.webdriver.support.ui import WebDriverWait\n",
    "from selenium.webdriver.support import expected_conditions as EC\n",
    "from dotenv import load_dotenv\n",
    "import os\n",
    "import time\n",
    "from datetime import datetime, timedelta\n",
    "import pandas as pd\n",
    "import keybert\n",
    "from nltk.corpus import stopwords\n",
    "import re \n"
   ]
  },
  {
   "cell_type": "code",
   "execution_count": 2,
   "id": "708827b7",
   "metadata": {},
   "outputs": [],
   "source": [
    "load_dotenv()\n",
    "user = os.getenv(\"UID\")\n",
    "password = os.getenv(\"PASSWORD\")\n",
    "\n",
    "#JOB TYPE: \n",
    "# Graduate \n",
    "# Internsip \n",
    "# Temporary \n",
    "# Summer\n",
    "job_type = \"Internship\""
   ]
  },
  {
   "cell_type": "markdown",
   "id": "8130e26a",
   "metadata": {},
   "source": [
    "<h2>Logging into the Job Portal</h2>"
   ]
  },
  {
   "cell_type": "code",
   "execution_count": 3,
   "id": "73fb9b37",
   "metadata": {},
   "outputs": [],
   "source": [
    "driver = webdriver.Chrome()\n",
    "driver.get(\"https://www.cedars.hku.hk/netjobs\")\n",
    "main_page = driver.current_window_handle\n",
    "\n",
    "# Click on Student Login\n",
    "student_login = driver.find_element(By.XPATH, \"//a[text()='HKU Student']\")\n",
    "student_login.click()\n",
    "\n",
    "#Input email and log in\n",
    "email_input = WebDriverWait(driver, timeout=10).until(\n",
    "    EC.presence_of_element_located((By.ID, \"email\"))\n",
    ")\n",
    "login_button = driver.find_element(By.ID, \"login_btn\")\n",
    "\n",
    "email_input.send_keys(user)\n",
    "login_button.click()\n",
    "\n",
    "#Input password\n",
    "password_input = WebDriverWait(driver, timeout=10).until(\n",
    "    EC.presence_of_element_located((By.ID, \"passwordInput\"))\n",
    ")\n",
    "sign_in_button = driver.find_element(By.ID, \"submitButton\")\n",
    "password_input.send_keys(password)\n",
    "sign_in_button.click()\n",
    "\n",
    "#Trust Page\n",
    "continue_button = WebDriverWait(driver, timeout=10).until(\n",
    "    EC.presence_of_element_located((By.ID, \"idSIButton9\"))\n",
    ")\n",
    "continue_button.click()\n",
    "#Stay Singed in page\n",
    "stay_button = WebDriverWait(driver, timeout=10).until(\n",
    "    EC.visibility_of_element_located((By.XPATH, \"//input[@type='submit' and @id='idSIButton9']\"))\n",
    ")\n",
    "stay_button.click()\n",
    "\n",
    "check_box = WebDriverWait(driver, 10).until(\n",
    "    EC.visibility_of_element_located((By.XPATH, \"//input[@type='checkbox']\"))\n",
    ")\n",
    "check_box.click()\n",
    "agree_btn = WebDriverWait(driver,10).until(\n",
    "    EC.element_to_be_clickable((By.ID, \"btn-agree\"))\n",
    ")\n",
    "agree_btn.click()\n",
    "\n",
    "time.sleep(1)\n",
    "\n",
    "job_type_button = WebDriverWait(driver, 10).until(\n",
    "    EC.presence_of_element_located((By.XPATH, f\"//a[text()='{job_type} (']\"))\n",
    ")\n",
    "job_type_button.click()\n",
    "\n",
    "time.sleep(1)\n",
    "\n",
    "job_type_button = WebDriverWait(driver, 10).until(\n",
    "    EC.presence_of_element_located((By.XPATH, f\"//a[text()='{job_type} (']\"))\n",
    ")\n",
    "job_type_button.click()"
   ]
  },
  {
   "cell_type": "code",
   "execution_count": 4,
   "id": "111ada2a",
   "metadata": {},
   "outputs": [
    {
     "data": {
      "text/plain": [
       "'2025-07-29'"
      ]
     },
     "execution_count": 4,
     "metadata": {},
     "output_type": "execute_result"
    }
   ],
   "source": [
    "\n",
    "yesterday = datetime.now() - timedelta(1)\n",
    "yesterday = datetime.strftime(yesterday, '%Y-%m-%d')\n",
    "yesterday"
   ]
  },
  {
   "cell_type": "code",
   "execution_count": 5,
   "id": "2c95c1a8",
   "metadata": {},
   "outputs": [],
   "source": [
    "def clean_data(data):\n",
    "    # data: list of strings corresponding to job details\n",
    "    for i in range(len(data)):\n",
    "        data[i] = data[i].split(':\\n')\n",
    "    return data\n",
    "\n",
    "def get_data(driver):\n",
    "    WebDriverWait(driver, 10).until(EC.number_of_windows_to_be(2))\n",
    "\n",
    "    for window_handle in driver.window_handles:\n",
    "        if window_handle != main_page:\n",
    "            driver.switch_to.window(window_handle)\n",
    "            break\n",
    "    \n",
    "    WebDriverWait(driver, 10).until(\n",
    "        EC.presence_of_element_located((By.XPATH, \"//div[@id='content']\"))\n",
    "    )\n",
    "    extract_data = driver.find_elements(By.XPATH, \"//div[@id='content']//div[contains(@class, 'crow')]\")\n",
    "    data = [i.text for i in extract_data if i.text.strip()]\n",
    "    \n",
    "    driver.close()\n",
    "    driver.switch_to.window(main_page)\n",
    "    return data\n",
    "\n",
    "details = []\n",
    "jobs = driver.find_elements(By.XPATH, \"//table[@id='search_jobs']/tbody/tr\")\n",
    "\n",
    "for i, job in enumerate(jobs):\n",
    "    job.click()\n",
    "    data = clean_data(get_data(driver))\n",
    "    details.append(data)\n",
    "\n",
    "driver.close()"
   ]
  },
  {
   "cell_type": "code",
   "execution_count": 6,
   "id": "a858e292",
   "metadata": {},
   "outputs": [
    {
     "data": {
      "text/plain": [
       "[['Job ID', 'G2500126'],\n",
       " ['Posting Date', '2025-07-28'],\n",
       " ['Employment Type', 'Internship'],\n",
       " ['Employment Mode', 'Part-time'],\n",
       " ['Company Name (Eng)', 'RecruitFirst Limited'],\n",
       " ['Nature of Business',\n",
       "  'Human Resources Consulting / Recruitment Agency / Training'],\n",
       " ['Origin of Company Ownership', 'Singapore'],\n",
       " ['No. of Employees', '10-50 employees'],\n",
       " ['Position Offered', 'HR Recruitment Internship'],\n",
       " ['No. of Vacancies', '3'],\n",
       " ['Job Nature', 'Human Resources / Training / Recruitment'],\n",
       " ['Job Description',\n",
       "  \"As a Recruitment Intern you will learn: \\nInterpersonal skills and picking up on different ques as you interact with different candidates\\nProblem-solving skills to address candidates' issues and conflicts\\nHow to do candidate mapping and market research from our structured training sessions\\nPre-interview assessment techniques with on-the-job coaching\\nWinning practices with our hands-on mentorship program \\nOur Industry Practices: \\nBanking & Finance\\nHR & Research\\nFMCG\\nLogistics & Sourcing\\nRetail & Marketing\\nServices Industry\\nTechnology & Communications\\n\\nWhat we offer\",\n",
       "  'Competitive Salary\\nEmployee Recognition Programs\\nStaff Referral Incentives\\nDynamic and Inclusive Work Environment'],\n",
       " ['Basic Salary', 'HKD 70 per Hour (Commission/Allowance: Yes)'],\n",
       " ['Work Location', 'Hong Kong, Mainland - Shenzhen'],\n",
       " ['Work Mode', 'Fully on-site work'],\n",
       " ['Fields of Study Required',\n",
       "  'All disciplines\\nArts\\nBusiness Administration\\nCounselling\\nHospitality & Tourism\\nHuman Resources Management\\nInternational Business and Global Management\\nPsychology\\nSocial Sciences\\nTranslation / Interpretation'],\n",
       " ['Level of Award ', 'Bachelor, Master'],\n",
       " ['No. of working hours per day', '8'],\n",
       " ['No. of working days per week', '2'],\n",
       " ['Closing Date for Application', '2025-09-26'],\n",
       " ['Application should be submitted by/via:'],\n",
       " ['Online via NETjobs:'],\n",
       " ['Application Documents Required', 'CV']]"
      ]
     },
     "execution_count": 6,
     "metadata": {},
     "output_type": "execute_result"
    }
   ],
   "source": [
    "details[2]"
   ]
  },
  {
   "cell_type": "code",
   "execution_count": 7,
   "id": "89b0ca56",
   "metadata": {},
   "outputs": [
    {
     "data": {
      "text/plain": [
       "{'Job ID': 20,\n",
       " 'Posting Date': 20,\n",
       " 'Employment Type': 20,\n",
       " 'Employment Mode': 20,\n",
       " 'Company Name (Eng)': 20,\n",
       " 'Nature of Business': 20,\n",
       " 'Origin of Company Ownership': 20,\n",
       " 'No. of Employees': 20,\n",
       " 'Position Offered': 20,\n",
       " 'No. of Vacancies': 20,\n",
       " 'Job Nature': 20,\n",
       " 'Job Description': 20,\n",
       " 'Basic Salary': 20,\n",
       " 'Work Location': 20,\n",
       " 'Work Mode': 20,\n",
       " 'Fields of Study Required': 20,\n",
       " 'Level of Award ': 20,\n",
       " 'No. of working hours per day': 20,\n",
       " 'No. of working days per week': 20,\n",
       " 'Closing Date for Application': 20,\n",
       " 'Application should be submitted by/via:': 20,\n",
       " 'Email': 13,\n",
       " 'Application Documents Required': 20,\n",
       " 'Company Name (Chi)': 8,\n",
       " 'Online via NETjobs:': 6,\n",
       " 'Application should be addressed to': 8,\n",
       " 'Other Benefits': 4,\n",
       " 'Online Application at company website': 5,\n",
       " 'Mail': 1,\n",
       " 'Phone': 1,\n",
       " 'Fax': 1,\n",
       " 'Others': 1}"
      ]
     },
     "execution_count": 7,
     "metadata": {},
     "output_type": "execute_result"
    }
   ],
   "source": [
    "job_details = dict()\n",
    "for job in details:\n",
    "    for detail in job:\n",
    "        if detail[0] not in job_details:\n",
    "            job_details[detail[0]] = 1\n",
    "        else:\n",
    "            job_details[detail[0]] += 1\n",
    "\n",
    "job_details\n"
   ]
  },
  {
   "cell_type": "code",
   "execution_count": 8,
   "id": "705b8324",
   "metadata": {},
   "outputs": [],
   "source": [
    "jobs_data = []\n",
    "for job in details:\n",
    "    jobs_dict = dict()\n",
    "    for detail in job:\n",
    "        if len(detail) == 2: \n",
    "            jobs_dict[detail[0]] = detail[1]\n",
    "        elif len(detail) > 2:  \n",
    "            jobs_dict[detail[0]] = ' '.join(detail[1:])\n",
    "        elif len(detail) == 1:\n",
    "            if detail[0] not in jobs_dict:\n",
    "                jobs_dict[detail[0]] = 1\n",
    "            else:\n",
    "                jobs_dict[detail[0]] += 1\n",
    "    jobs_data.append(jobs_dict)\n",
    "jobs_df = pd.DataFrame(jobs_data)"
   ]
  },
  {
   "cell_type": "code",
   "execution_count": 9,
   "id": "6e54a5cf",
   "metadata": {},
   "outputs": [
    {
     "data": {
      "text/plain": [
       "Index(['Job ID', 'Posting Date', 'Employment Type', 'Employment Mode',\n",
       "       'Company Name (Eng)', 'Nature of Business',\n",
       "       'Origin of Company Ownership', 'No. of Employees', 'Position Offered',\n",
       "       'No. of Vacancies', 'Job Nature', 'Job Description', 'Basic Salary',\n",
       "       'Work Location', 'Work Mode', 'Fields of Study Required',\n",
       "       'Level of Award ', 'No. of working hours per day',\n",
       "       'No. of working days per week', 'Closing Date for Application',\n",
       "       'Application should be submitted by/via:', 'Email',\n",
       "       'Application Documents Required', 'Company Name (Chi)',\n",
       "       'Online via NETjobs:', 'Application should be addressed to',\n",
       "       'Other Benefits', 'Online Application at company website', 'Mail',\n",
       "       'Phone', 'Fax', 'Others'],\n",
       "      dtype='object')"
      ]
     },
     "execution_count": 9,
     "metadata": {},
     "output_type": "execute_result"
    }
   ],
   "source": [
    "# jobs_df.to_json(\"data.json\", orient=\"records\", indent=4)\n",
    "\n",
    "jobs_df.columns"
   ]
  },
  {
   "cell_type": "code",
   "execution_count": 10,
   "id": "0ab6e8b8",
   "metadata": {},
   "outputs": [
    {
     "name": "stdout",
     "output_type": "stream",
     "text": [
      "Job Description\n",
      "Support the Client Services Management team in meeting clients’ requests and demands.  \n",
      "Support Client Services Management Team's everyday deliverables expected from this team. Types of support will include scheduling of meeting, producing PowerPoints, organizing client help desk, track outstanding actions, participating at clients’ helpdesks and internally liaise with various teams to respond to client’s requests and enquiries.\n",
      " Understand the internal SOP and SLA to follow through outstanding actions within internal teams.\n",
      "Actively work with internal teams, to ensure clients’ requests and demands are met.\n",
      "Ensure quality written and verbal communication response is presented to the internal teams and external clients.\n",
      "Prepare presentations and gather adhoc reporting requests on time\n",
      "Investigate, respond & proactively resolve escalated queries both internal/external in a timely manner and where required inform the CSM\n",
      "Proactively identify and action opportunities for process improvement \n",
      "We are looking for\n",
      "Experience in a client facing role preferred\n",
      "Strong relationship and stakeholder management skills, as well as communication and interpersonal skills\n",
      "Excellent time management and organisational skills\n",
      "Ability to manage competing priorities and meet client deliverables\n",
      "Professionalism with strong delivery /outcome focus\n",
      "Solid logic and analytical skills\n",
      "Strong problem solving capability\n",
      "Fluent in English and Cantonese\n",
      "Proficient in Microsoft Office products (Excel, Word, PowerPoint)\n",
      "Able to commit on full-time basis (Monday - Friday) throughout the internship\n"
     ]
    },
    {
     "data": {
      "text/plain": [
       "'\\nAbout Us\\nRole Overview / Job Responsibilities / Job Overview / Job Duties / What we offer / Job Description / Key Responsibilities\\nKey Responsibilities\\nRequirements/Qualifications\\n'"
      ]
     },
     "execution_count": 10,
     "metadata": {},
     "output_type": "execute_result"
    }
   ],
   "source": [
    "print(jobs_df['Job Description'].iloc[19])\n",
    "\n",
    "\"\"\"\n",
    "About Us\n",
    "Role Overview / Job Responsibilities / Job Overview / Job Duties / What we offer / Job Description / Key Responsibilities\n",
    "Key Responsibilities\n",
    "Requirements/Qualifications\n",
    "\"\"\""
   ]
  },
  {
   "cell_type": "code",
   "execution_count": 11,
   "id": "f4f9a2c8",
   "metadata": {},
   "outputs": [],
   "source": [
    "def clean_desc(desc):\n",
    "    desc = re.split(r'', desc)\n",
    "    return desc"
   ]
  },
  {
   "cell_type": "code",
   "execution_count": 17,
   "id": "4e6d16d7",
   "metadata": {},
   "outputs": [],
   "source": [
    "def get_tags(input_df:pd.DataFrame, model:keybert) -> list:\n",
    "    tags = []\n",
    "    job_nature = input_df['Job Nature'].replace('/', ' ') \n",
    "    #job_desc = clean_desc(input_df['Job Description'])\n",
    "    job_desc = input_df['Job Description']\n",
    "    pos_offered = input_df['Position Offered'] \n",
    "    nature_of_business = input_df['Nature of Business'] \n",
    "\n",
    "    tags.append(model.extract_keywords(job_desc, stop_words=stopwords.words('english')))\n",
    "    return tags"
   ]
  },
  {
   "cell_type": "code",
   "execution_count": 13,
   "id": "9692bd70",
   "metadata": {},
   "outputs": [],
   "source": [
    "model = keybert.KeyBERT()"
   ]
  },
  {
   "cell_type": "code",
   "execution_count": 18,
   "id": "56701930",
   "metadata": {},
   "outputs": [
    {
     "name": "stdout",
     "output_type": "stream",
     "text": [
      "Position: Coral Programme Specialist\n",
      "Company: Meta Dot Limited\n",
      "Location: San Po Kong\n",
      "Job Type: Part-Time\n",
      "Job Highlights Engage in a transformative Coral STEAM Programme\n",
      "Lead in scientific research, tech implementation, and engineering solutions\n",
      "Foster educational and conservation impact in the community\n",
      "Job Description Are you passionate about coral conservation, technology, and education? Join us as a Coral Programme Specialist and make a real difference in both the environment and the community.\n",
      "\n",
      "Meta Dot Limited is seeking a dedicated Coral Programme Specialist to lead and contribute to our innovative Coral STEAM Programme, an initiative that intertwines Science, Technology, Engineering, Art, and Mathematics (STEAM) to explore and conserve marine ecosystems, particularly focusing on corals.\n",
      "Responsibilities 1. Scientific Research on Coral Conduct and lead research on coral ecology, threats, and conservation strategies.\n",
      "Develop and implement educational materials for students and the community.\n",
      "\n",
      "2. Technology & Data Management Develop, implement, and manage Arduino-based monitoring systems for coral tanks.\n",
      "Handle data collection, analysis, and reporting for coral growth and health.\n",
      "\n",
      "3. Engineering & Construction Oversee and engage in the design and construction of coral tanks.\n",
      "Ensure the optimal functioning and maintenance of coral habitats.\n",
      "\n",
      "4. Educational & Community Engagement Lead and facilitate workshops and activities related to coral science and conservation.\n",
      "Engage with schools and the community to promote coral conservation awareness.\n",
      "\n",
      "Requirements Bachelor's degree or higher in Marine Biology, Biology, Ecology, Environmental Science, or related fields.\n",
      "Proven experience in scientific research, technology application, and/or engineering in a relevant context.\n",
      "Strong ability to convey scientific concepts in an educational and engaging manner.\n",
      "Exceptional organizational and leadership skills.\n",
      "Proficient in both English and Chinese.\n",
      "Application Interested candidates, please send your resume and a cover letter, detailing your experience and interest in this role, to gemini.chan@meta-dot.io by 10/08/2025.\n",
      "Meta Dot Limited is an equal opportunity employer and welcomes applicants from all qualified individuals. We are committed to building a diverse and inclusive team that represents a variety of backgrounds, perspectives, and skills.\n",
      "Join us in making a meaningful impact through our Coral STEAM Programme, inspiring the next generation, and contributing to coral conservation efforts in our community.\n",
      "[[('coral', 0.5222), ('corals', 0.501), ('marine', 0.3835), ('ecology', 0.3227), ('responsibilities', 0.3132)]]\n"
     ]
    }
   ],
   "source": [
    "input_data = jobs_df[['Job ID', 'Job Nature', 'Job Description', 'Position Offered', 'Nature of Business']]\n",
    "print(input_data.iloc[1]['Job Description'])\n",
    "print(get_tags(input_data.iloc[1], model))"
   ]
  },
  {
   "cell_type": "markdown",
   "id": "7a4b6a71",
   "metadata": {},
   "source": [
    "Job ID  \n",
    "Company Name  \n",
    "Nature of Business  \n",
    "Position Offered  \n",
    "Job Nature\n",
    "Job Description"
   ]
  },
  {
   "cell_type": "markdown",
   "id": "adecc2f7",
   "metadata": {},
   "source": [
    "Get hastags and concatenate the vector embeddings  \n",
    "Store each embedding to its respective job ID"
   ]
  },
  {
   "cell_type": "markdown",
   "id": "6b27cd2a",
   "metadata": {},
   "source": [
    "Data types: NULL INTEGER REAL TEXT BLOB"
   ]
  },
  {
   "cell_type": "code",
   "execution_count": 15,
   "id": "242d68d3",
   "metadata": {},
   "outputs": [],
   "source": [
    "#Set up a connection\n",
    "# conn = sqlite3.connect('jobs.db')\n",
    "# cursor = conn.cursor()\n",
    "# create_table_query = \"\"\"\n",
    "# CREATE TABLE IF NOT EXISTS jobs (\n",
    "#     JobID TEXT PRIMARY KEY,\n",
    "#     PostingDate TEXT,\n",
    "#     EmploymentType TEXT,\n",
    "#     EmplymentMode TEXT,\n",
    "#     CompanyNameEng TEXT,\n",
    "#     CompanyNameChi TEXT, \n",
    "#     NatureOfBusiness TEXT,\n",
    "#     OriginOfCompanyOwnership TEXT,\n",
    "#     NoOfEmployees TEXT,\n",
    "#     PositionOffered TEXT,\n",
    "#     NoOfVacancies TEXT,\n",
    "#     JobNature TEXT,\n",
    "#     JobDescription TEXT,\n",
    "#     BasicSalary TEXT,\n",
    "#     WorkLocatin TEXT, \n",
    "#     WorkMode TEXT,\n",
    "#     FieldsOfStudyRequired TEXT,\n",
    "#     LevelOfAward TEXT,\n",
    "#     NoOfWorkingHoursPerDay INTEGER,\n",
    "#     NoOfWorkingHoursPerWeek INTEGER,\n",
    "#     ClosingDataForApplication TEXT,\n",
    "#     ApplicationShouldBeSubmittedVia TEXT,\n",
    "#     ApplicationDocumentsRequired TEXT\n",
    "# );\n",
    "# \"\"\"\n",
    "\n",
    "# cursor.execute(create_table_query)"
   ]
  },
  {
   "cell_type": "code",
   "execution_count": 16,
   "id": "18808b31",
   "metadata": {},
   "outputs": [],
   "source": [
    "\n",
    "\n",
    "import nbformat\n",
    "\n",
    "# Load the notebook\n",
    "with open('get_jobs.ipynb') as f:\n",
    "    notebook = nbformat.read(f, as_version=4)\n",
    "\n",
    "# Extract code cells\n",
    "code_cells = [cell.source for cell in notebook.cells if cell.cell_type == 'code']\n",
    "\n",
    "# Write to a .py file\n",
    "with open('output_script.py', 'w') as f:\n",
    "    for cell in code_cells:\n",
    "        f.write(cell + '\\n\\n')\n"
   ]
  }
 ],
 "metadata": {
  "kernelspec": {
   "display_name": "base",
   "language": "python",
   "name": "python3"
  },
  "language_info": {
   "codemirror_mode": {
    "name": "ipython",
    "version": 3
   },
   "file_extension": ".py",
   "mimetype": "text/x-python",
   "name": "python",
   "nbconvert_exporter": "python",
   "pygments_lexer": "ipython3",
   "version": "3.11.5"
  }
 },
 "nbformat": 4,
 "nbformat_minor": 5
}
