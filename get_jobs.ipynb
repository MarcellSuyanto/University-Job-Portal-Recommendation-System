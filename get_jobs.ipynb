{
 "cells": [
  {
   "cell_type": "code",
   "execution_count": 1,
   "id": "53e71d0e",
   "metadata": {},
   "outputs": [
    {
     "name": "stdout",
     "output_type": "stream",
     "text": [
      "Collecting keybert\n",
      "  Downloading keybert-0.9.0-py3-none-any.whl.metadata (15 kB)\n",
      "Requirement already satisfied: numpy>=1.18.5 in c:\\users\\marcell suyanto\\anaconda3\\lib\\site-packages (from keybert) (1.24.3)\n",
      "Requirement already satisfied: rich>=10.4.0 in c:\\users\\marcell suyanto\\anaconda3\\lib\\site-packages (from keybert) (14.0.0)\n",
      "Requirement already satisfied: scikit-learn>=0.22.2 in c:\\users\\marcell suyanto\\anaconda3\\lib\\site-packages (from keybert) (1.3.0)\n",
      "Collecting sentence-transformers>=0.3.8 (from keybert)\n",
      "  Downloading sentence_transformers-5.0.0-py3-none-any.whl.metadata (16 kB)\n",
      "Requirement already satisfied: markdown-it-py>=2.2.0 in c:\\users\\marcell suyanto\\anaconda3\\lib\\site-packages (from rich>=10.4.0->keybert) (2.2.0)\n",
      "Requirement already satisfied: pygments<3.0.0,>=2.13.0 in c:\\users\\marcell suyanto\\anaconda3\\lib\\site-packages (from rich>=10.4.0->keybert) (2.15.1)\n",
      "Requirement already satisfied: scipy>=1.5.0 in c:\\users\\marcell suyanto\\anaconda3\\lib\\site-packages (from scikit-learn>=0.22.2->keybert) (1.11.1)\n",
      "Requirement already satisfied: joblib>=1.1.1 in c:\\users\\marcell suyanto\\anaconda3\\lib\\site-packages (from scikit-learn>=0.22.2->keybert) (1.2.0)\n",
      "Requirement already satisfied: threadpoolctl>=2.0.0 in c:\\users\\marcell suyanto\\anaconda3\\lib\\site-packages (from scikit-learn>=0.22.2->keybert) (2.2.0)\n",
      "Collecting transformers<5.0.0,>=4.41.0 (from sentence-transformers>=0.3.8->keybert)\n",
      "  Downloading transformers-4.53.2-py3-none-any.whl.metadata (40 kB)\n",
      "Requirement already satisfied: tqdm in c:\\users\\marcell suyanto\\anaconda3\\lib\\site-packages (from sentence-transformers>=0.3.8->keybert) (4.67.1)\n",
      "Requirement already satisfied: torch>=1.11.0 in c:\\users\\marcell suyanto\\anaconda3\\lib\\site-packages (from sentence-transformers>=0.3.8->keybert) (2.7.1)\n",
      "Requirement already satisfied: huggingface-hub>=0.20.0 in c:\\users\\marcell suyanto\\anaconda3\\lib\\site-packages (from sentence-transformers>=0.3.8->keybert) (0.33.0)\n",
      "Requirement already satisfied: Pillow in c:\\users\\marcell suyanto\\anaconda3\\lib\\site-packages (from sentence-transformers>=0.3.8->keybert) (9.4.0)\n",
      "Requirement already satisfied: typing_extensions>=4.5.0 in c:\\users\\marcell suyanto\\anaconda3\\lib\\site-packages (from sentence-transformers>=0.3.8->keybert) (4.13.0)\n",
      "Requirement already satisfied: filelock in c:\\users\\marcell suyanto\\anaconda3\\lib\\site-packages (from huggingface-hub>=0.20.0->sentence-transformers>=0.3.8->keybert) (3.9.0)\n",
      "Requirement already satisfied: fsspec>=2023.5.0 in c:\\users\\marcell suyanto\\anaconda3\\lib\\site-packages (from huggingface-hub>=0.20.0->sentence-transformers>=0.3.8->keybert) (2025.3.0)\n",
      "Requirement already satisfied: packaging>=20.9 in c:\\users\\marcell suyanto\\anaconda3\\lib\\site-packages (from huggingface-hub>=0.20.0->sentence-transformers>=0.3.8->keybert) (23.1)\n",
      "Requirement already satisfied: pyyaml>=5.1 in c:\\users\\marcell suyanto\\anaconda3\\lib\\site-packages (from huggingface-hub>=0.20.0->sentence-transformers>=0.3.8->keybert) (6.0)\n",
      "Requirement already satisfied: requests in c:\\users\\marcell suyanto\\anaconda3\\lib\\site-packages (from huggingface-hub>=0.20.0->sentence-transformers>=0.3.8->keybert) (2.32.4)\n",
      "Requirement already satisfied: mdurl~=0.1 in c:\\users\\marcell suyanto\\anaconda3\\lib\\site-packages (from markdown-it-py>=2.2.0->rich>=10.4.0->keybert) (0.1.0)\n",
      "Requirement already satisfied: sympy>=1.13.3 in c:\\users\\marcell suyanto\\anaconda3\\lib\\site-packages (from torch>=1.11.0->sentence-transformers>=0.3.8->keybert) (1.14.0)\n",
      "Requirement already satisfied: networkx in c:\\users\\marcell suyanto\\anaconda3\\lib\\site-packages (from torch>=1.11.0->sentence-transformers>=0.3.8->keybert) (3.1)\n",
      "Requirement already satisfied: jinja2 in c:\\users\\marcell suyanto\\anaconda3\\lib\\site-packages (from torch>=1.11.0->sentence-transformers>=0.3.8->keybert) (3.1.2)\n",
      "Requirement already satisfied: colorama in c:\\users\\marcell suyanto\\anaconda3\\lib\\site-packages (from tqdm->sentence-transformers>=0.3.8->keybert) (0.4.6)\n",
      "Requirement already satisfied: regex!=2019.12.17 in c:\\users\\marcell suyanto\\anaconda3\\lib\\site-packages (from transformers<5.0.0,>=4.41.0->sentence-transformers>=0.3.8->keybert) (2022.7.9)\n",
      "Collecting tokenizers<0.22,>=0.21 (from transformers<5.0.0,>=4.41.0->sentence-transformers>=0.3.8->keybert)\n",
      "  Downloading tokenizers-0.21.2-cp39-abi3-win_amd64.whl.metadata (6.9 kB)\n",
      "Requirement already satisfied: safetensors>=0.4.3 in c:\\users\\marcell suyanto\\anaconda3\\lib\\site-packages (from transformers<5.0.0,>=4.41.0->sentence-transformers>=0.3.8->keybert) (0.5.3)\n",
      "Requirement already satisfied: mpmath<1.4,>=1.1.0 in c:\\users\\marcell suyanto\\anaconda3\\lib\\site-packages (from sympy>=1.13.3->torch>=1.11.0->sentence-transformers>=0.3.8->keybert) (1.3.0)\n",
      "Requirement already satisfied: MarkupSafe>=2.0 in c:\\users\\marcell suyanto\\anaconda3\\lib\\site-packages (from jinja2->torch>=1.11.0->sentence-transformers>=0.3.8->keybert) (2.1.1)\n",
      "Requirement already satisfied: charset_normalizer<4,>=2 in c:\\users\\marcell suyanto\\anaconda3\\lib\\site-packages (from requests->huggingface-hub>=0.20.0->sentence-transformers>=0.3.8->keybert) (2.0.4)\n",
      "Requirement already satisfied: idna<4,>=2.5 in c:\\users\\marcell suyanto\\anaconda3\\lib\\site-packages (from requests->huggingface-hub>=0.20.0->sentence-transformers>=0.3.8->keybert) (3.4)\n",
      "Requirement already satisfied: urllib3<3,>=1.21.1 in c:\\users\\marcell suyanto\\anaconda3\\lib\\site-packages (from requests->huggingface-hub>=0.20.0->sentence-transformers>=0.3.8->keybert) (1.26.16)\n",
      "Requirement already satisfied: certifi>=2017.4.17 in c:\\users\\marcell suyanto\\anaconda3\\lib\\site-packages (from requests->huggingface-hub>=0.20.0->sentence-transformers>=0.3.8->keybert) (2023.7.22)\n",
      "Downloading keybert-0.9.0-py3-none-any.whl (41 kB)\n",
      "Downloading sentence_transformers-5.0.0-py3-none-any.whl (470 kB)\n",
      "Downloading transformers-4.53.2-py3-none-any.whl (10.8 MB)\n",
      "   ---------------------------------------- 0.0/10.8 MB ? eta -:--:--\n",
      "   ------------------ --------------------- 5.0/10.8 MB 23.2 MB/s eta 0:00:01\n",
      "   ------------------------------------- -- 10.2/10.8 MB 24.5 MB/s eta 0:00:01\n",
      "   ---------------------------------------- 10.8/10.8 MB 22.5 MB/s eta 0:00:00\n",
      "Downloading tokenizers-0.21.2-cp39-abi3-win_amd64.whl (2.5 MB)\n",
      "   ---------------------------------------- 0.0/2.5 MB ? eta -:--:--\n",
      "   ---------------------------------------- 2.5/2.5 MB 36.3 MB/s eta 0:00:00\n",
      "Installing collected packages: tokenizers, transformers, sentence-transformers, keybert\n",
      "  Attempting uninstall: tokenizers\n",
      "    Found existing installation: tokenizers 0.13.3\n",
      "    Uninstalling tokenizers-0.13.3:\n",
      "      Successfully uninstalled tokenizers-0.13.3\n",
      "  Attempting uninstall: transformers\n",
      "    Found existing installation: transformers 4.25.1\n",
      "    Uninstalling transformers-4.25.1:\n",
      "      Successfully uninstalled transformers-4.25.1\n",
      "Successfully installed keybert-0.9.0 sentence-transformers-5.0.0 tokenizers-0.21.2 transformers-4.53.2\n",
      "Note: you may need to restart the kernel to use updated packages.\n"
     ]
    },
    {
     "name": "stderr",
     "output_type": "stream",
     "text": [
      "\n",
      "[notice] A new release of pip is available: 24.2 -> 25.1.1\n",
      "[notice] To update, run: python.exe -m pip install --upgrade pip\n"
     ]
    }
   ],
   "source": [
    "%pip install keybert"
   ]
  },
  {
   "cell_type": "code",
   "execution_count": 1,
   "id": "c55b8e01",
   "metadata": {},
   "outputs": [],
   "source": [
    "from selenium import webdriver\n",
    "from selenium.webdriver.common.by import By\n",
    "from selenium.webdriver.support.ui import WebDriverWait\n",
    "from selenium.webdriver.support import expected_conditions as EC\n",
    "from dotenv import load_dotenv\n",
    "import os\n",
    "import time\n",
    "from datetime import datetime, timedelta\n",
    "import pandas as pd\n",
    "import sqlite3\n",
    "import json"
   ]
  },
  {
   "cell_type": "code",
   "execution_count": 4,
   "id": "708827b7",
   "metadata": {},
   "outputs": [],
   "source": [
    "load_dotenv()\n",
    "user = os.getenv(\"UID\")\n",
    "password = os.getenv(\"PASSWORD\")\n",
    "\n",
    "#JOB TYPE: \n",
    "# Graduate \n",
    "# Internsip \n",
    "# Temporary \n",
    "# Summer\n",
    "job_type = \"Internship\""
   ]
  },
  {
   "cell_type": "markdown",
   "id": "8130e26a",
   "metadata": {},
   "source": [
    "<h2>Logging into the Job Portal</h2>"
   ]
  },
  {
   "cell_type": "code",
   "execution_count": 5,
   "id": "73fb9b37",
   "metadata": {},
   "outputs": [],
   "source": [
    "driver = webdriver.Chrome()\n",
    "driver.get(\"https://www.cedars.hku.hk/netjobs\")\n",
    "main_page = driver.current_window_handle\n",
    "\n",
    "# Click on Student Login\n",
    "student_login = driver.find_element(By.XPATH, \"//a[text()='HKU Student']\")\n",
    "student_login.click()\n",
    "\n",
    "#Input email and log in\n",
    "email_input = WebDriverWait(driver, timeout=10).until(\n",
    "    EC.presence_of_element_located((By.ID, \"email\"))\n",
    ")\n",
    "login_button = driver.find_element(By.ID, \"login_btn\")\n",
    "\n",
    "email_input.send_keys(user)\n",
    "login_button.click()\n",
    "\n",
    "#Input password\n",
    "password_input = WebDriverWait(driver, timeout=10).until(\n",
    "    EC.presence_of_element_located((By.ID, \"passwordInput\"))\n",
    ")\n",
    "sign_in_button = driver.find_element(By.ID, \"submitButton\")\n",
    "password_input.send_keys(password)\n",
    "sign_in_button.click()\n",
    "\n",
    "#Trust Page\n",
    "continue_button = WebDriverWait(driver, timeout=10).until(\n",
    "    EC.presence_of_element_located((By.ID, \"idSIButton9\"))\n",
    ")\n",
    "continue_button.click()\n",
    "#Stay Singed in page\n",
    "stay_button = WebDriverWait(driver, timeout=10).until(\n",
    "    EC.presence_of_element_located((By.XPATH, \"//input[@type='submit' and @id='idSIButton9']\"))\n",
    ")\n",
    "stay_button.click()\n",
    "\n"
   ]
  },
  {
   "cell_type": "markdown",
   "id": "4010562f",
   "metadata": {},
   "source": [
    "<h2>Job Portal Page</h2>"
   ]
  },
  {
   "cell_type": "markdown",
   "id": "0b6fdaf4",
   "metadata": {},
   "source": [
    "**Navigate to Internship Page**"
   ]
  },
  {
   "cell_type": "code",
   "execution_count": 6,
   "id": "48a09541",
   "metadata": {},
   "outputs": [],
   "source": [
    "check_box = WebDriverWait(driver, 10).until(\n",
    "    EC.visibility_of_element_located((By.XPATH, \"//input[@type='checkbox']\"))\n",
    ")\n",
    "check_box.click()\n",
    "agree_btn = WebDriverWait(driver,10).until(\n",
    "    EC.element_to_be_clickable((By.ID, \"btn-agree\"))\n",
    ")\n",
    "agree_btn.click()"
   ]
  },
  {
   "cell_type": "code",
   "execution_count": 7,
   "id": "b1557e0f",
   "metadata": {},
   "outputs": [],
   "source": [
    "time.sleep(1)\n",
    "internship_button = driver.find_element(By.XPATH, f\"//a[text()='{job_type} (']\")\n",
    "internship_button.click()"
   ]
  },
  {
   "cell_type": "code",
   "execution_count": 8,
   "id": "111ada2a",
   "metadata": {},
   "outputs": [
    {
     "data": {
      "text/plain": [
       "'2025-07-09'"
      ]
     },
     "execution_count": 8,
     "metadata": {},
     "output_type": "execute_result"
    }
   ],
   "source": [
    "\n",
    "yesterday = datetime.now() - timedelta(1)\n",
    "yesterday = datetime.strftime(yesterday, '%Y-%m-%d')\n",
    "yesterday"
   ]
  },
  {
   "cell_type": "code",
   "execution_count": 9,
   "id": "946f51c4",
   "metadata": {},
   "outputs": [],
   "source": [
    "def clean_data(data):\n",
    "    # data: list of strings corresponding to job details\n",
    "    for i in range(len(data)):\n",
    "        data[i] = data[i].split(':\\n')\n",
    "    return data\n",
    "        "
   ]
  },
  {
   "cell_type": "code",
   "execution_count": 10,
   "id": "2c95c1a8",
   "metadata": {},
   "outputs": [],
   "source": [
    "def get_data(driver):\n",
    "    WebDriverWait(driver, 10).until(EC.number_of_windows_to_be(2))\n",
    "\n",
    "    for window_handle in driver.window_handles:\n",
    "        if window_handle != main_page:\n",
    "            driver.switch_to.window(window_handle)\n",
    "            break\n",
    "    \n",
    "    WebDriverWait(driver, 10).until(\n",
    "        EC.presence_of_element_located((By.XPATH, \"//div[@id='content']\"))\n",
    "    )\n",
    "    extract_data = driver.find_elements(By.XPATH, \"//div[@id='content']//div[contains(@class, 'crow')]\")\n",
    "    data = [i.text for i in extract_data if i.text.strip()]\n",
    "    \n",
    "    driver.close()\n",
    "    driver.switch_to.window(main_page)\n",
    "    return data"
   ]
  },
  {
   "cell_type": "code",
   "execution_count": 11,
   "id": "93560df4",
   "metadata": {},
   "outputs": [],
   "source": [
    "details = []\n",
    "jobs = driver.find_elements(By.XPATH, \"//table[@id='search_jobs']/tbody/tr\")\n",
    "\n",
    "for i, job in enumerate(jobs):\n",
    "    job.click()\n",
    "    data = clean_data(get_data(driver))\n",
    "    details.append(data)\n",
    "\n",
    "driver.close()\n",
    "    "
   ]
  },
  {
   "cell_type": "code",
   "execution_count": 12,
   "id": "d450f684",
   "metadata": {},
   "outputs": [],
   "source": [
    "\n",
    "def format_json(job):\n",
    "    job_json = {}   \n",
    "    for item in job:\n",
    "        if len(item) >= 2:  \n",
    "            key = item[0]\n",
    "            value = item[1]\n",
    "            job_json[key] = value\n",
    "    return json.dumps(job_json)  "
   ]
  },
  {
   "cell_type": "code",
   "execution_count": 13,
   "id": "a858e292",
   "metadata": {},
   "outputs": [
    {
     "data": {
      "text/plain": [
       "[['Job ID', 'G2500056'],\n",
       " ['Posting Date', '2025-07-10'],\n",
       " ['Employment Type', 'Internship'],\n",
       " ['Employment Mode', 'Part-time'],\n",
       " ['Company Name (Eng)',\n",
       "  'Shanghai International Group (Hong Kong) Co., Limited'],\n",
       " ['Company Name (Chi)', '上海國際集團(香港)有限公司'],\n",
       " ['Nature of Business', 'Banking / Financial Services'],\n",
       " ['Origin of Company Ownership', 'China'],\n",
       " ['No. of Employees', '1-10 employees'],\n",
       " ['Position Offered', 'Internship- Investment Department'],\n",
       " ['No. of Vacancies', '2'],\n",
       " ['Job Nature', 'Banking / Finance Executive'],\n",
       " ['Job Description',\n",
       "  'Responsibilities',\n",
       "  'Participate in the daily research and investment work\\nAssist in the information collection and data processing of the research topics and investment projects\\nAssist in tracking and analyzing the public information of the industries and companies of the investment targets\\nHandle other tasks as assigned by leadership\\nRequirements',\n",
       "  \"Authorized to work in Hong Kong during the internship period\\nFull-time undergraduate/ postgraduate degree student with outstanding academic background\\nMinimum completion of Bachelors' degree\\nInternship period must be at least two months\\nOnboard ASAP\\nPlease send your CV to email: wushuyang@sigchina.com\"],\n",
       " ['Basic Salary', 'HKD 400 per Day'],\n",
       " ['Work Location', 'Hong Kong'],\n",
       " ['Work Mode', 'Fully on-site work'],\n",
       " ['Fields of Study Required',\n",
       "  'Accounting & Finance\\nBusiness Administration\\nEconomics\\nQuantitative Finance\\nRisk Management\\nStatistics\\nWealth Management'],\n",
       " ['Level of Award ', 'Bachelor, Master'],\n",
       " ['No. of working hours per day', '8'],\n",
       " ['No. of working days per week', '5'],\n",
       " ['Closing Date for Application', '2025-07-18'],\n",
       " ['Application should be submitted by/via:'],\n",
       " ['Online via NETjobs:'],\n",
       " ['Email', 'wushuyang@sigchina.com'],\n",
       " ['Application Documents Required', 'CV']]"
      ]
     },
     "execution_count": 13,
     "metadata": {},
     "output_type": "execute_result"
    }
   ],
   "source": [
    "details[2]"
   ]
  },
  {
   "cell_type": "markdown",
   "id": "9cb50261",
   "metadata": {},
   "source": [
    "**Setting up the Database**"
   ]
  },
  {
   "cell_type": "markdown",
   "id": "6b27cd2a",
   "metadata": {},
   "source": [
    "Data types: NULL INTEGER REAL TEXT BLOB"
   ]
  },
  {
   "cell_type": "code",
   "execution_count": 14,
   "id": "242d68d3",
   "metadata": {},
   "outputs": [
    {
     "data": {
      "text/plain": [
       "<sqlite3.Cursor at 0x239ffabb740>"
      ]
     },
     "execution_count": 14,
     "metadata": {},
     "output_type": "execute_result"
    }
   ],
   "source": [
    "#Set up a connection\n",
    "conn = sqlite3.connect('jobs.db')\n",
    "cursor = conn.cursor()\n",
    "create_table_query = \"\"\"\n",
    "CREATE TABLE IF NOT EXISTS jobs (\n",
    "    JobID TEXT PRIMARY KEY,\n",
    "    PostingDate TEXT,\n",
    "    EmploymentType TEXT,\n",
    "    EmplymentMode TEXT,\n",
    "    CompanyNameEng TEXT,\n",
    "    CompanyNameChi TEXT, \n",
    "    NatureOfBusiness TEXT,\n",
    "    OriginOfCompanyOwnership TEXT,\n",
    "    NoOfEmployees TEXT,\n",
    "    PositionOffered TEXT,\n",
    "    NoOfVacancies TEXT,\n",
    "    JobNature TEXT,\n",
    "    JobDescription TEXT,\n",
    "    BasicSalary TEXT,\n",
    "    WorkLocatin TEXT, \n",
    "    WorkMode TEXT,\n",
    "    FieldsOfStudyRequired TEXT,\n",
    "    LevelOfAward TEXT,\n",
    "    NoOfWorkingHoursPerDay INTEGER,\n",
    "    NoOfWorkingHoursPerWeek INTEGER,\n",
    "    ClosingDataForApplication TEXT,\n",
    "    ApplicationShouldBeSubmittedVia TEXT,\n",
    "    ApplicationDocumentsRequired TEXT\n",
    ");\n",
    "\"\"\"\n",
    "\n",
    "cursor.execute(create_table_query)"
   ]
  },
  {
   "cell_type": "code",
   "execution_count": 15,
   "id": "18808b31",
   "metadata": {},
   "outputs": [],
   "source": [
    "\n",
    "\n",
    "import nbformat\n",
    "\n",
    "# Load the notebook\n",
    "with open('get_jobs.ipynb') as f:\n",
    "    notebook = nbformat.read(f, as_version=4)\n",
    "\n",
    "# Extract code cells\n",
    "code_cells = [cell.source for cell in notebook.cells if cell.cell_type == 'code']\n",
    "\n",
    "# Write to a .py file\n",
    "with open('output_script.py', 'w') as f:\n",
    "    for cell in code_cells:\n",
    "        f.write(cell + '\\n\\n')\n"
   ]
  }
 ],
 "metadata": {
  "kernelspec": {
   "display_name": "base",
   "language": "python",
   "name": "python3"
  },
  "language_info": {
   "codemirror_mode": {
    "name": "ipython",
    "version": 3
   },
   "file_extension": ".py",
   "mimetype": "text/x-python",
   "name": "python",
   "nbconvert_exporter": "python",
   "pygments_lexer": "ipython3",
   "version": "3.11.5"
  }
 },
 "nbformat": 4,
 "nbformat_minor": 5
}
